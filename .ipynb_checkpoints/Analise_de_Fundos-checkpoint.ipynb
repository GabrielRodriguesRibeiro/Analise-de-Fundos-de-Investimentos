{
 "cells": [
  {
   "cell_type": "markdown",
   "id": "b382ff65-0686-4dfb-a8d0-e1a66bbc8f8e",
   "metadata": {},
   "source": [
    "# IMPORTAÇÃO DE BIBLIOTECAS"
   ]
  },
  {
   "cell_type": "code",
   "execution_count": 1,
   "id": "99c18e1f-abc8-48ca-9f1f-2e6164d95b74",
   "metadata": {},
   "outputs": [
    {
     "name": "stderr",
     "output_type": "stream",
     "text": [
      "C:\\Python311\\Lib\\site-packages\\requests\\__init__.py:109: RequestsDependencyWarning: urllib3 (2.0.3) or chardet (None)/charset_normalizer (3.0.1) doesn't match a supported version!\n",
      "  warnings.warn(\n"
     ]
    }
   ],
   "source": [
    "import yfinance as yf\n",
    "import pandas as pd\n",
    "import seaborn as sns\n",
    "import zipfile\n",
    "import requests\n",
    "import re\n",
    "import os\n",
    "from datetime import date\n",
    "from io import BytesIO\n",
    "\n",
    "%matplotlib inline"
   ]
  },
  {
   "cell_type": "markdown",
   "id": "6557d124-6483-448c-abf6-29716e3f92d6",
   "metadata": {},
   "source": [
    "# -------------------------------------------------------------"
   ]
  },
  {
   "cell_type": "markdown",
   "id": "ed2eeaeb-909c-41b1-adc2-448c5ac13112",
   "metadata": {},
   "source": [
    "# WEB CRAWLER - SITE DO GOV-CVM"
   ]
  },
  {
   "cell_type": "code",
   "execution_count": 2,
   "id": "afdee687-e929-4479-aaa6-261efea608cf",
   "metadata": {},
   "outputs": [],
   "source": [
    "# INICIALIZAÇÃO DE VARIÁVEIS\n",
    "links_zipados = []\n",
    "filebytes = []"
   ]
  },
  {
   "cell_type": "code",
   "execution_count": 3,
   "id": "458d8f0c-da4f-4a72-82bb-6366e2548b83",
   "metadata": {},
   "outputs": [],
   "source": [
    "caminho_diretorio = \"C:\\\\Users\\\\User\\\\Desktop\\\\Pessoal\\\\Análises\\\\Informes\"\n",
    "os.makedirs(caminho_diretorio, exist_ok=True)"
   ]
  },
  {
   "cell_type": "code",
   "execution_count": 4,
   "id": "6a06c7f5-69d0-4596-a408-cadfb96028c6",
   "metadata": {},
   "outputs": [],
   "source": [
    "url_cvm = 'https://dados.cvm.gov.br/dataset/fi-doc-inf_diario'"
   ]
  },
  {
   "cell_type": "code",
   "execution_count": 5,
   "id": "c02bd215-c24b-4214-8517-c9f82eeda5b5",
   "metadata": {},
   "outputs": [],
   "source": [
    "# CAPTURA DE LINKS .ZIP NO HTML\n",
    "resposta = requests.get(url_cvm)\n",
    "html = resposta.text\n",
    "links_extraidos = re.findall(r'<a href=[\\'\"?](https[://\\w\\-._]+)', html)"
   ]
  },
  {
   "cell_type": "code",
   "execution_count": 6,
   "id": "afd849d6-2d06-467b-95df-57b1010ef7fd",
   "metadata": {},
   "outputs": [
    {
     "name": "stdout",
     "output_type": "stream",
     "text": [
      "[<_io.BytesIO object at 0x00000221B575C310>, <_io.BytesIO object at 0x00000221B575D030>, <_io.BytesIO object at 0x00000221B575D1C0>, <_io.BytesIO object at 0x00000221B576AA20>, <_io.BytesIO object at 0x00000221B576A980>, <_io.BytesIO object at 0x00000221B576A250>, <_io.BytesIO object at 0x00000221B576A6B0>, <_io.BytesIO object at 0x00000221B576A9D0>, <_io.BytesIO object at 0x00000221B576AE30>, <_io.BytesIO object at 0x00000221B576A430>, <_io.BytesIO object at 0x00000221B576AAC0>, <_io.BytesIO object at 0x0000022183F98540>, <_io.BytesIO object at 0x00000221B576AA70>]\n"
     ]
    }
   ],
   "source": [
    "def captura_links_zipados():\n",
    "    for link in links_extraidos:\n",
    "        tamanho_link = len(link)\n",
    "        link_zipado = link[tamanho_link-4:tamanho_link]\n",
    "    \n",
    "        if link_zipado == '.zip':\n",
    "            links_zipados.append(link)\n",
    "\n",
    "def extracao_arquivos_diretorio():\n",
    "    indice = 0\n",
    "    while indice < len(links_zipados):\n",
    "        filebytes.append(BytesIO(requests.get(links_zipados[indice]).content))\n",
    "        indice += 1\n",
    "\n",
    "    indice = 0\n",
    "    while indice < len(links_zipados):\n",
    "        arquivo_zipado = zipfile.ZipFile(filebytes[indice])\n",
    "        arquivo_zipado.extractall(caminho_diretorio)\n",
    "        indice += 1\n",
    "    print(filebytes)\n",
    "    \n",
    "captura_links_zipados()\n",
    "extracao_arquivos_diretorio()"
   ]
  },
  {
   "cell_type": "markdown",
   "id": "466e1d2a-8690-4763-afaf-e1633e988ebb",
   "metadata": {},
   "source": [
    "# -------------------------------------------------------------"
   ]
  },
  {
   "cell_type": "markdown",
   "id": "ece9c1ee-52e6-47bd-854a-2133469dde23",
   "metadata": {},
   "source": [
    "# CARREGAMENTO DO DATASET"
   ]
  },
  {
   "cell_type": "code",
   "execution_count": 7,
   "id": "1d13ded0-006d-4baa-be36-59fc5849cf47",
   "metadata": {},
   "outputs": [],
   "source": [
    "# INICIALIZAÇÃO DE VARIÁVEIS\n",
    "nome_arquivos = []"
   ]
  },
  {
   "cell_type": "code",
   "execution_count": 8,
   "id": "6a206386-cdb4-4b1e-8253-3071c3faaf2c",
   "metadata": {},
   "outputs": [],
   "source": [
    "caminho_informes = \"C:\\\\Users\\\\User\\\\Desktop\\\\Pessoal\\\\Análises\\\\Informes\\\\\"\n",
    "os.makedirs(caminho_informes, exist_ok=True)"
   ]
  },
  {
   "cell_type": "code",
   "execution_count": 9,
   "id": "6f96bd9b-0243-45cc-8edf-ce0c47be1c25",
   "metadata": {},
   "outputs": [],
   "source": [
    "for diretorio, subpastas, arquivos in os.walk(caminho_informes):\n",
    "    nome_arquivos.append(arquivos)"
   ]
  },
  {
   "cell_type": "code",
   "execution_count": 10,
   "id": "b9f7de47-5b46-4dd1-b08d-c01bc1e4a760",
   "metadata": {},
   "outputs": [
    {
     "name": "stdout",
     "output_type": "stream",
     "text": [
      "inf_diario_fi_202201.csv,  inf_diario_fi_202202.csv,  inf_diario_fi_202203.csv,  inf_diario_fi_202204.csv,  inf_diario_fi_202205.csv,  inf_diario_fi_202206.csv,  inf_diario_fi_202207.csv,  inf_diario_fi_202208.csv,  inf_diario_fi_202209.csv,  inf_diario_fi_202210.csv,  inf_diario_fi_202211.csv,  inf_diario_fi_202212.csv,  inf_diario_fi_202301.csv,  inf_diario_fi_202302.csv,  inf_diario_fi_202303.csv,  inf_diario_fi_202304.csv,  inf_diario_fi_202305.csv,  inf_diario_fi_202306.csv,  inf_diario_fi_202307.csv\n"
     ]
    }
   ],
   "source": [
    "arquivo = str(nome_arquivos[0])\n",
    "arquivo = str(arquivo.split(','))\n",
    "arquivo = arquivo.replace('[', '')\n",
    "arquivo = arquivo.replace(']', '')\n",
    "arquivo = arquivo.replace('\"', '')\n",
    "arquivo = arquivo.replace('\\'', '')\n",
    "print(arquivo)"
   ]
  },
  {
   "cell_type": "code",
   "execution_count": 11,
   "id": "a0cab883-9d83-49cd-84c7-086939fb8769",
   "metadata": {},
   "outputs": [],
   "source": [
    "dados = pd.DataFrame()\n",
    "\n",
    "nome_arquivos = arquivo.split(',')\n",
    "\n",
    "for arquivo_separado in nome_arquivos:\n",
    "    arquivo_separado = arquivo_separado.strip()\n",
    "    dados_temp = pd.read_csv(\"Informes/\" + arquivo_separado, sep=\";\")\n",
    "    dados = pd.concat([dados, dados_temp])"
   ]
  },
  {
   "cell_type": "code",
   "execution_count": 12,
   "id": "e4615349-9b84-4762-b3fb-ccb782c03f6a",
   "metadata": {},
   "outputs": [
    {
     "data": {
      "text/html": [
       "<div>\n",
       "<style scoped>\n",
       "    .dataframe tbody tr th:only-of-type {\n",
       "        vertical-align: middle;\n",
       "    }\n",
       "\n",
       "    .dataframe tbody tr th {\n",
       "        vertical-align: top;\n",
       "    }\n",
       "\n",
       "    .dataframe thead th {\n",
       "        text-align: right;\n",
       "    }\n",
       "</style>\n",
       "<table border=\"1\" class=\"dataframe\">\n",
       "  <thead>\n",
       "    <tr style=\"text-align: right;\">\n",
       "      <th></th>\n",
       "      <th>TP_FUNDO</th>\n",
       "      <th>CNPJ_FUNDO</th>\n",
       "      <th>DT_COMPTC</th>\n",
       "      <th>VL_TOTAL</th>\n",
       "      <th>VL_QUOTA</th>\n",
       "      <th>VL_PATRIM_LIQ</th>\n",
       "      <th>CAPTC_DIA</th>\n",
       "      <th>RESG_DIA</th>\n",
       "      <th>NR_COTST</th>\n",
       "    </tr>\n",
       "  </thead>\n",
       "  <tbody>\n",
       "    <tr>\n",
       "      <th>23023</th>\n",
       "      <td>FI</td>\n",
       "      <td>97.543.707/0001-86</td>\n",
       "      <td>2023-07-03</td>\n",
       "      <td>1.139942e+08</td>\n",
       "      <td>2.138945</td>\n",
       "      <td>1.583324e+08</td>\n",
       "      <td>0.0</td>\n",
       "      <td>7500000.00</td>\n",
       "      <td>8</td>\n",
       "    </tr>\n",
       "    <tr>\n",
       "      <th>23024</th>\n",
       "      <td>FI</td>\n",
       "      <td>97.543.834/0001-85</td>\n",
       "      <td>2023-07-03</td>\n",
       "      <td>2.256495e+06</td>\n",
       "      <td>0.139769</td>\n",
       "      <td>2.272000e+06</td>\n",
       "      <td>0.0</td>\n",
       "      <td>0.00</td>\n",
       "      <td>1</td>\n",
       "    </tr>\n",
       "    <tr>\n",
       "      <th>23025</th>\n",
       "      <td>FI</td>\n",
       "      <td>97.548.167/0001-23</td>\n",
       "      <td>2023-07-03</td>\n",
       "      <td>4.988711e+09</td>\n",
       "      <td>4.559695</td>\n",
       "      <td>4.838591e+09</td>\n",
       "      <td>5508747.0</td>\n",
       "      <td>15556437.72</td>\n",
       "      <td>12</td>\n",
       "    </tr>\n",
       "    <tr>\n",
       "      <th>23026</th>\n",
       "      <td>FI</td>\n",
       "      <td>97.929.197/0001-80</td>\n",
       "      <td>2023-07-03</td>\n",
       "      <td>1.371877e+08</td>\n",
       "      <td>5.578995</td>\n",
       "      <td>1.370863e+08</td>\n",
       "      <td>0.0</td>\n",
       "      <td>0.00</td>\n",
       "      <td>12</td>\n",
       "    </tr>\n",
       "    <tr>\n",
       "      <th>23027</th>\n",
       "      <td>FI</td>\n",
       "      <td>97.929.213/0001-34</td>\n",
       "      <td>2023-07-03</td>\n",
       "      <td>8.311166e+07</td>\n",
       "      <td>10.936788</td>\n",
       "      <td>8.311217e+07</td>\n",
       "      <td>0.0</td>\n",
       "      <td>0.00</td>\n",
       "      <td>2</td>\n",
       "    </tr>\n",
       "  </tbody>\n",
       "</table>\n",
       "</div>"
      ],
      "text/plain": [
       "      TP_FUNDO          CNPJ_FUNDO   DT_COMPTC      VL_TOTAL   VL_QUOTA  \\\n",
       "23023       FI  97.543.707/0001-86  2023-07-03  1.139942e+08   2.138945   \n",
       "23024       FI  97.543.834/0001-85  2023-07-03  2.256495e+06   0.139769   \n",
       "23025       FI  97.548.167/0001-23  2023-07-03  4.988711e+09   4.559695   \n",
       "23026       FI  97.929.197/0001-80  2023-07-03  1.371877e+08   5.578995   \n",
       "23027       FI  97.929.213/0001-34  2023-07-03  8.311166e+07  10.936788   \n",
       "\n",
       "       VL_PATRIM_LIQ  CAPTC_DIA     RESG_DIA  NR_COTST  \n",
       "23023   1.583324e+08        0.0   7500000.00         8  \n",
       "23024   2.272000e+06        0.0         0.00         1  \n",
       "23025   4.838591e+09  5508747.0  15556437.72        12  \n",
       "23026   1.370863e+08        0.0         0.00        12  \n",
       "23027   8.311217e+07        0.0         0.00         2  "
      ]
     },
     "execution_count": 12,
     "metadata": {},
     "output_type": "execute_result"
    }
   ],
   "source": [
    "dados.tail()"
   ]
  },
  {
   "cell_type": "markdown",
   "id": "8019cfc6-18fb-4f1a-93f5-340c5f2a7625",
   "metadata": {},
   "source": [
    "# -------------------------------------------------------------"
   ]
  },
  {
   "cell_type": "markdown",
   "id": "66357367-bbb9-40e4-b17a-7e417afe0751",
   "metadata": {},
   "source": [
    "# TRATAMENTO DOS DADOS"
   ]
  },
  {
   "cell_type": "code",
   "execution_count": 13,
   "id": "ba296a7c-6328-400b-ab28-5028bb29b83f",
   "metadata": {},
   "outputs": [
    {
     "data": {
      "text/plain": [
       "0       2022-01-03\n",
       "1       2022-01-04\n",
       "2       2022-01-05\n",
       "3       2022-01-06\n",
       "4       2022-01-07\n",
       "           ...    \n",
       "23023   2023-07-03\n",
       "23024   2023-07-03\n",
       "23025   2023-07-03\n",
       "23026   2023-07-03\n",
       "23027   2023-07-03\n",
       "Name: DT_COMPTC, Length: 9053763, dtype: datetime64[ns]"
      ]
     },
     "execution_count": 13,
     "metadata": {},
     "output_type": "execute_result"
    }
   ],
   "source": [
    "dados['DT_COMPTC'] = pd.to_datetime(dados['DT_COMPTC'], dayfirst=True)\n",
    "dados['DT_COMPTC']"
   ]
  },
  {
   "cell_type": "code",
   "execution_count": 14,
   "id": "add8a406-7eca-4a20-a451-c6ee83c15177",
   "metadata": {},
   "outputs": [
    {
     "data": {
      "text/html": [
       "<div>\n",
       "<style scoped>\n",
       "    .dataframe tbody tr th:only-of-type {\n",
       "        vertical-align: middle;\n",
       "    }\n",
       "\n",
       "    .dataframe tbody tr th {\n",
       "        vertical-align: top;\n",
       "    }\n",
       "\n",
       "    .dataframe thead th {\n",
       "        text-align: right;\n",
       "    }\n",
       "</style>\n",
       "<table border=\"1\" class=\"dataframe\">\n",
       "  <thead>\n",
       "    <tr style=\"text-align: right;\">\n",
       "      <th></th>\n",
       "      <th>TP_FUNDO</th>\n",
       "      <th>CNPJ_FUNDO</th>\n",
       "      <th>DT_COMPTC</th>\n",
       "      <th>VL_TOTAL</th>\n",
       "      <th>VL_QUOTA</th>\n",
       "      <th>VL_PATRIM_LIQ</th>\n",
       "      <th>CAPTC_DIA</th>\n",
       "      <th>RESG_DIA</th>\n",
       "      <th>NR_COTST</th>\n",
       "    </tr>\n",
       "  </thead>\n",
       "  <tbody>\n",
       "    <tr>\n",
       "      <th>0</th>\n",
       "      <td>FI</td>\n",
       "      <td>00.017.024/0001-53</td>\n",
       "      <td>2022-01-03</td>\n",
       "      <td>1075476.00</td>\n",
       "      <td>28.110273</td>\n",
       "      <td>1078462.74</td>\n",
       "      <td>0.0</td>\n",
       "      <td>0.00</td>\n",
       "      <td>1</td>\n",
       "    </tr>\n",
       "    <tr>\n",
       "      <th>1</th>\n",
       "      <td>FI</td>\n",
       "      <td>00.017.024/0001-53</td>\n",
       "      <td>2022-01-04</td>\n",
       "      <td>1075873.10</td>\n",
       "      <td>28.118682</td>\n",
       "      <td>1078785.36</td>\n",
       "      <td>0.0</td>\n",
       "      <td>0.00</td>\n",
       "      <td>1</td>\n",
       "    </tr>\n",
       "    <tr>\n",
       "      <th>2</th>\n",
       "      <td>FI</td>\n",
       "      <td>00.017.024/0001-53</td>\n",
       "      <td>2022-01-05</td>\n",
       "      <td>1076280.19</td>\n",
       "      <td>28.127768</td>\n",
       "      <td>1079133.95</td>\n",
       "      <td>0.0</td>\n",
       "      <td>0.00</td>\n",
       "      <td>1</td>\n",
       "    </tr>\n",
       "    <tr>\n",
       "      <th>3</th>\n",
       "      <td>FI</td>\n",
       "      <td>00.017.024/0001-53</td>\n",
       "      <td>2022-01-06</td>\n",
       "      <td>1076680.92</td>\n",
       "      <td>28.137115</td>\n",
       "      <td>1079492.53</td>\n",
       "      <td>0.0</td>\n",
       "      <td>0.00</td>\n",
       "      <td>1</td>\n",
       "    </tr>\n",
       "    <tr>\n",
       "      <th>4</th>\n",
       "      <td>FI</td>\n",
       "      <td>00.017.024/0001-53</td>\n",
       "      <td>2022-01-07</td>\n",
       "      <td>1073899.79</td>\n",
       "      <td>28.146295</td>\n",
       "      <td>1076721.79</td>\n",
       "      <td>0.0</td>\n",
       "      <td>3122.94</td>\n",
       "      <td>1</td>\n",
       "    </tr>\n",
       "  </tbody>\n",
       "</table>\n",
       "</div>"
      ],
      "text/plain": [
       "  TP_FUNDO          CNPJ_FUNDO  DT_COMPTC    VL_TOTAL   VL_QUOTA  \\\n",
       "0       FI  00.017.024/0001-53 2022-01-03  1075476.00  28.110273   \n",
       "1       FI  00.017.024/0001-53 2022-01-04  1075873.10  28.118682   \n",
       "2       FI  00.017.024/0001-53 2022-01-05  1076280.19  28.127768   \n",
       "3       FI  00.017.024/0001-53 2022-01-06  1076680.92  28.137115   \n",
       "4       FI  00.017.024/0001-53 2022-01-07  1073899.79  28.146295   \n",
       "\n",
       "   VL_PATRIM_LIQ  CAPTC_DIA  RESG_DIA  NR_COTST  \n",
       "0     1078462.74        0.0      0.00         1  \n",
       "1     1078785.36        0.0      0.00         1  \n",
       "2     1079133.95        0.0      0.00         1  \n",
       "3     1079492.53        0.0      0.00         1  \n",
       "4     1076721.79        0.0   3122.94         1  "
      ]
     },
     "execution_count": 14,
     "metadata": {},
     "output_type": "execute_result"
    }
   ],
   "source": [
    "dados.head()"
   ]
  },
  {
   "cell_type": "markdown",
   "id": "37be1657-db36-4ad7-a5f1-7290cf996ca9",
   "metadata": {},
   "source": [
    "# -------------------------------------------------------------"
   ]
  },
  {
   "cell_type": "markdown",
   "id": "cf1c678b-fede-476a-ac48-0c08b3591b18",
   "metadata": {},
   "source": [
    "# INFORMAÇÕES DO DATASET"
   ]
  },
  {
   "cell_type": "code",
   "execution_count": 15,
   "id": "c0692f62-84c9-45f7-8ddc-a6e9636d3717",
   "metadata": {},
   "outputs": [
    {
     "name": "stdout",
     "output_type": "stream",
     "text": [
      "<class 'pandas.core.frame.DataFrame'>\n",
      "Int64Index: 9053763 entries, 0 to 23027\n",
      "Data columns (total 9 columns):\n",
      " #   Column         Dtype         \n",
      "---  ------         -----         \n",
      " 0   TP_FUNDO       object        \n",
      " 1   CNPJ_FUNDO     object        \n",
      " 2   DT_COMPTC      datetime64[ns]\n",
      " 3   VL_TOTAL       float64       \n",
      " 4   VL_QUOTA       float64       \n",
      " 5   VL_PATRIM_LIQ  float64       \n",
      " 6   CAPTC_DIA      float64       \n",
      " 7   RESG_DIA       float64       \n",
      " 8   NR_COTST       int64         \n",
      "dtypes: datetime64[ns](1), float64(5), int64(1), object(2)\n",
      "memory usage: 690.7+ MB\n"
     ]
    }
   ],
   "source": [
    "dados.info()"
   ]
  },
  {
   "cell_type": "code",
   "execution_count": 16,
   "id": "3eaf1ded-670f-452a-964f-682728f63b71",
   "metadata": {},
   "outputs": [
    {
     "data": {
      "text/html": [
       "<div>\n",
       "<style scoped>\n",
       "    .dataframe tbody tr th:only-of-type {\n",
       "        vertical-align: middle;\n",
       "    }\n",
       "\n",
       "    .dataframe tbody tr th {\n",
       "        vertical-align: top;\n",
       "    }\n",
       "\n",
       "    .dataframe thead th {\n",
       "        text-align: right;\n",
       "    }\n",
       "</style>\n",
       "<table border=\"1\" class=\"dataframe\">\n",
       "  <thead>\n",
       "    <tr style=\"text-align: right;\">\n",
       "      <th></th>\n",
       "      <th>VL_TOTAL</th>\n",
       "      <th>VL_QUOTA</th>\n",
       "      <th>VL_PATRIM_LIQ</th>\n",
       "      <th>CAPTC_DIA</th>\n",
       "      <th>RESG_DIA</th>\n",
       "      <th>NR_COTST</th>\n",
       "    </tr>\n",
       "  </thead>\n",
       "  <tbody>\n",
       "    <tr>\n",
       "      <th>count</th>\n",
       "      <td>9.053763e+06</td>\n",
       "      <td>9.053763e+06</td>\n",
       "      <td>9.053763e+06</td>\n",
       "      <td>9.053763e+06</td>\n",
       "      <td>9.053763e+06</td>\n",
       "      <td>9.053763e+06</td>\n",
       "    </tr>\n",
       "    <tr>\n",
       "      <th>mean</th>\n",
       "      <td>4.120650e+08</td>\n",
       "      <td>-3.913449e+05</td>\n",
       "      <td>4.114495e+08</td>\n",
       "      <td>2.636773e+06</td>\n",
       "      <td>2.703659e+06</td>\n",
       "      <td>1.012939e+03</td>\n",
       "    </tr>\n",
       "    <tr>\n",
       "      <th>std</th>\n",
       "      <td>2.730892e+09</td>\n",
       "      <td>2.706056e+08</td>\n",
       "      <td>2.753140e+09</td>\n",
       "      <td>7.588365e+07</td>\n",
       "      <td>7.866268e+07</td>\n",
       "      <td>1.606933e+04</td>\n",
       "    </tr>\n",
       "    <tr>\n",
       "      <th>min</th>\n",
       "      <td>-2.977211e+10</td>\n",
       "      <td>-2.698874e+11</td>\n",
       "      <td>-1.279029e+12</td>\n",
       "      <td>0.000000e+00</td>\n",
       "      <td>0.000000e+00</td>\n",
       "      <td>0.000000e+00</td>\n",
       "    </tr>\n",
       "    <tr>\n",
       "      <th>25%</th>\n",
       "      <td>1.530784e+07</td>\n",
       "      <td>1.121296e+00</td>\n",
       "      <td>1.533168e+07</td>\n",
       "      <td>0.000000e+00</td>\n",
       "      <td>0.000000e+00</td>\n",
       "      <td>1.000000e+00</td>\n",
       "    </tr>\n",
       "    <tr>\n",
       "      <th>50%</th>\n",
       "      <td>4.284673e+07</td>\n",
       "      <td>2.122272e+00</td>\n",
       "      <td>4.291347e+07</td>\n",
       "      <td>0.000000e+00</td>\n",
       "      <td>0.000000e+00</td>\n",
       "      <td>2.000000e+00</td>\n",
       "    </tr>\n",
       "    <tr>\n",
       "      <th>75%</th>\n",
       "      <td>1.555878e+08</td>\n",
       "      <td>2.248629e+01</td>\n",
       "      <td>1.556853e+08</td>\n",
       "      <td>0.000000e+00</td>\n",
       "      <td>0.000000e+00</td>\n",
       "      <td>1.700000e+01</td>\n",
       "    </tr>\n",
       "    <tr>\n",
       "      <th>max</th>\n",
       "      <td>8.951530e+11</td>\n",
       "      <td>3.544334e+10</td>\n",
       "      <td>5.392245e+11</td>\n",
       "      <td>1.111448e+11</td>\n",
       "      <td>1.111448e+11</td>\n",
       "      <td>9.531823e+06</td>\n",
       "    </tr>\n",
       "  </tbody>\n",
       "</table>\n",
       "</div>"
      ],
      "text/plain": [
       "           VL_TOTAL      VL_QUOTA  VL_PATRIM_LIQ     CAPTC_DIA      RESG_DIA  \\\n",
       "count  9.053763e+06  9.053763e+06   9.053763e+06  9.053763e+06  9.053763e+06   \n",
       "mean   4.120650e+08 -3.913449e+05   4.114495e+08  2.636773e+06  2.703659e+06   \n",
       "std    2.730892e+09  2.706056e+08   2.753140e+09  7.588365e+07  7.866268e+07   \n",
       "min   -2.977211e+10 -2.698874e+11  -1.279029e+12  0.000000e+00  0.000000e+00   \n",
       "25%    1.530784e+07  1.121296e+00   1.533168e+07  0.000000e+00  0.000000e+00   \n",
       "50%    4.284673e+07  2.122272e+00   4.291347e+07  0.000000e+00  0.000000e+00   \n",
       "75%    1.555878e+08  2.248629e+01   1.556853e+08  0.000000e+00  0.000000e+00   \n",
       "max    8.951530e+11  3.544334e+10   5.392245e+11  1.111448e+11  1.111448e+11   \n",
       "\n",
       "           NR_COTST  \n",
       "count  9.053763e+06  \n",
       "mean   1.012939e+03  \n",
       "std    1.606933e+04  \n",
       "min    0.000000e+00  \n",
       "25%    1.000000e+00  \n",
       "50%    2.000000e+00  \n",
       "75%    1.700000e+01  \n",
       "max    9.531823e+06  "
      ]
     },
     "execution_count": 16,
     "metadata": {},
     "output_type": "execute_result"
    }
   ],
   "source": [
    "dados.describe()"
   ]
  },
  {
   "cell_type": "markdown",
   "id": "18598a9c-1cb9-4171-8d87-5349524b4bd2",
   "metadata": {},
   "source": [
    "# -------------------------------------------------------------"
   ]
  },
  {
   "cell_type": "markdown",
   "id": "18ea98e6-c84f-4518-8d19-a291bb9865ef",
   "metadata": {},
   "source": [
    "# EXPLORAÇÃO DOS DADOS"
   ]
  },
  {
   "cell_type": "code",
   "execution_count": null,
   "id": "fad9302a-965a-4991-a9de-f74872ca320f",
   "metadata": {},
   "outputs": [],
   "source": [
    "sns.heatmap(dados.isnull(), yticklabels='');"
   ]
  },
  {
   "cell_type": "markdown",
   "id": "d4956ccd-796a-4e11-b1bf-bdbf509bd8d4",
   "metadata": {},
   "source": [
    "# -------------------------------------------------------------"
   ]
  },
  {
   "cell_type": "markdown",
   "id": "e3e59cfa-acb3-4103-a01a-195b036e4ed1",
   "metadata": {},
   "source": [
    "# FILTRAGEM DE DADOS"
   ]
  },
  {
   "cell_type": "code",
   "execution_count": null,
   "id": "42395468-e019-42fb-a1ae-0500b0d7556c",
   "metadata": {},
   "outputs": [],
   "source": [
    "# FILTRO POR DATA (INSERIR A DATA AQUI)\n",
    "\n",
    "data_atual = date.today()\n",
    "data_atual = data_atual.strftime(\"%Y-%m-%d\")\n",
    "\n",
    "dados_filtrados_por_data = (dados['DT_COMPTC'] >= '2023-01-01') & (dados['DT_COMPTC'] <= data_atual)\n",
    "dados[dados_filtrados_por_data]"
   ]
  },
  {
   "cell_type": "code",
   "execution_count": null,
   "id": "9d97a806-24fd-4868-9593-0e944b1749d1",
   "metadata": {},
   "outputs": [],
   "source": [
    "# FUNDOS DA MINHA CARTEIRA POR CNPJ.\n",
    "\n",
    "trend_ouro_dolar_fim            = dados[(dados['CNPJ_FUNDO'] == '35.609.786/0001-23') & dados_filtrados_por_data == True]\n",
    "dna_defense_fic_fim_cp          = dados[(dados['CNPJ_FUNDO'] == '37.626.852/0001-07') & dados_filtrados_por_data == True]\n",
    "dna_serenity_fic_fim_cp         = dados[(dados['CNPJ_FUNDO'] == '37.645.550/0001-78') & dados_filtrados_por_data == True]\n",
    "trend_metaverso_fia_bdr_nivel_1 = dados[(dados['CNPJ_FUNDO'] == '44.431.925/0001-62') & dados_filtrados_por_data == True]\n",
    "trend_china_tech_fim            = dados[(dados['CNPJ_FUNDO'] == '42.776.301/0001-51') & dados_filtrados_por_data == True]\n",
    "trend_bolsa_chinesa_fim         = dados[(dados['CNPJ_FUNDO'] == '35.717.740/0001-28') & dados_filtrados_por_data == True]\n",
    "trend_commodities_fim           = dados[(dados['CNPJ_FUNDO'] == '40.212.817/0001-48') & dados_filtrados_por_data == True]\n",
    "trend_short_dolar_fi_cambial    = dados[(dados['CNPJ_FUNDO'] == '32.246.789/0001-51') & dados_filtrados_por_data == True]\n",
    "trend_prata_fim                 = dados[(dados['CNPJ_FUNDO'] == '38.027.135/0001-13') & dados_filtrados_por_data == True]\n",
    "trend_agua_tech_fim             = dados[(dados['CNPJ_FUNDO'] == '42.403.085/0001-07') & dados_filtrados_por_data == True]"
   ]
  },
  {
   "cell_type": "markdown",
   "id": "aab8c014-afb7-46b7-a7b9-14b93ee62f02",
   "metadata": {},
   "source": [
    "# -------------------------------------------------------------"
   ]
  },
  {
   "cell_type": "markdown",
   "id": "df25a5ec-aa88-431d-9f28-19abc258d598",
   "metadata": {},
   "source": [
    "# GRÁFICOS"
   ]
  },
  {
   "cell_type": "markdown",
   "id": "6053f6a1-489a-4b37-95d3-3b221e267601",
   "metadata": {},
   "source": [
    "TREND OURO DÓLAR FIM"
   ]
  },
  {
   "cell_type": "code",
   "execution_count": null,
   "id": "8e860ecd-7859-454f-9865-fb80331ce522",
   "metadata": {},
   "outputs": [],
   "source": [
    "import plotly.express as px\n",
    "\n",
    "fig = px.line(trend_ouro_dolar_fim, x=trend_ouro_dolar_fim['DT_COMPTC'], y=trend_ouro_dolar_fim['VL_TOTAL'],\n",
    "              title='TREND OURO DÓLAR FIM',\n",
    "              markers='*',\n",
    "              labels={\n",
    "                     \"DT_COMPTC\": \"Data de competência do documento\",\n",
    "                     \"VL_TOTAL\": \"Valor total da carteira\"})\n",
    "\n",
    "fig.update_xaxes(rangeslider_visible=True)\n",
    "fig.update_layout(height=600)\n",
    "fig.show()"
   ]
  },
  {
   "cell_type": "markdown",
   "id": "fda36c72-55c8-4f90-b026-699824503d14",
   "metadata": {},
   "source": [
    "DNA DEFENSE FIC FIM CP"
   ]
  },
  {
   "cell_type": "code",
   "execution_count": null,
   "id": "39940938-4edd-4311-ba36-6fd30ebc5707",
   "metadata": {},
   "outputs": [],
   "source": [
    "import plotly.express as px\n",
    "\n",
    "fig = px.line(dna_defense_fic_fim_cp, x=dna_defense_fic_fim_cp['DT_COMPTC'], y=dna_defense_fic_fim_cp['VL_TOTAL'],\n",
    "              title='DNA DEFENSE FIC FIM CP',\n",
    "              markers='*',\n",
    "              labels={\n",
    "                     \"DT_COMPTC\": \"Data de competência do documento\",\n",
    "                     \"VL_TOTAL\": \"Valor total da carteira\"})\n",
    "\n",
    "fig.update_xaxes(rangeslider_visible=True)\n",
    "fig.update_layout(height=600)\n",
    "fig.show()"
   ]
  },
  {
   "cell_type": "markdown",
   "id": "c8f5f366-7edf-4ddf-856d-0e7b63bd5c0d",
   "metadata": {},
   "source": [
    "DNA SERENITY FIC FIM CP"
   ]
  },
  {
   "cell_type": "code",
   "execution_count": null,
   "id": "fbc06f71-f699-46be-b132-7df275dc20c0",
   "metadata": {},
   "outputs": [],
   "source": [
    "import plotly.express as px\n",
    "\n",
    "fig = px.line(dna_serenity_fic_fim_cp, x=dna_serenity_fic_fim_cp['DT_COMPTC'], y=dna_serenity_fic_fim_cp['VL_TOTAL'],\n",
    "              title='DNA SERENITY FIC FIM CP',\n",
    "              markers='*',\n",
    "              labels={\n",
    "                     \"DT_COMPTC\": \"Data de competência do documento\",\n",
    "                     \"VL_TOTAL\": \"Valor total da carteira\"})\n",
    "\n",
    "fig.update_xaxes(rangeslider_visible=True)\n",
    "fig.update_layout(height=600)\n",
    "fig.show()"
   ]
  },
  {
   "cell_type": "markdown",
   "id": "bb95a17d-796a-4a28-a9da-269d0e8bbb8b",
   "metadata": {},
   "source": [
    "TREND METAVERSO FIA BDR NIVEL 1"
   ]
  },
  {
   "cell_type": "code",
   "execution_count": null,
   "id": "480e21b9-c958-42f3-85c1-1d401eece2c6",
   "metadata": {},
   "outputs": [],
   "source": [
    "import plotly.express as px\n",
    "\n",
    "fig = px.line(trend_metaverso_fia_bdr_nivel_1, x=trend_metaverso_fia_bdr_nivel_1['DT_COMPTC'], y=trend_metaverso_fia_bdr_nivel_1['VL_TOTAL'],\n",
    "              title='TREND METAVERSO FIA BDR NIVEL 1',\n",
    "              markers='*',\n",
    "              labels={\n",
    "                     \"DT_COMPTC\": \"Data de competência do documento\",\n",
    "                     \"VL_TOTAL\": \"Valor total da carteira\"})\n",
    "\n",
    "fig.update_xaxes(rangeslider_visible=True)\n",
    "fig.update_layout(height=600)\n",
    "fig.show()"
   ]
  },
  {
   "cell_type": "markdown",
   "id": "bec019de-eaa7-419c-98cf-dce13c95cc08",
   "metadata": {},
   "source": [
    "TREND CHINA TECH FIM"
   ]
  },
  {
   "cell_type": "code",
   "execution_count": null,
   "id": "c1e2b070-c319-4d10-ae2c-ef5dc9d4ad4c",
   "metadata": {},
   "outputs": [],
   "source": [
    "import plotly.express as px\n",
    "\n",
    "fig = px.line(trend_china_tech_fim, x=trend_china_tech_fim['DT_COMPTC'], y=trend_china_tech_fim['VL_TOTAL'],\n",
    "              title='TREND CHINA TECH FIM',\n",
    "              markers='*',\n",
    "              labels={\n",
    "                     \"DT_COMPTC\": \"Data de competência do documento\",\n",
    "                     \"VL_TOTAL\": \"Valor total da carteira\"})\n",
    "\n",
    "fig.update_xaxes(rangeslider_visible=True)\n",
    "fig.update_layout(height=600)\n",
    "fig.show()"
   ]
  },
  {
   "cell_type": "markdown",
   "id": "686083db-6473-4eb0-b32a-73b7d42a1800",
   "metadata": {},
   "source": [
    "TREND BOLSA CHINESA FIM"
   ]
  },
  {
   "cell_type": "code",
   "execution_count": null,
   "id": "dffa8e4f-595c-4c9b-90bb-c2980dfc6254",
   "metadata": {},
   "outputs": [],
   "source": [
    "import plotly.express as px\n",
    "\n",
    "fig = px.line(trend_bolsa_chinesa_fim, x=trend_bolsa_chinesa_fim['DT_COMPTC'], y=trend_bolsa_chinesa_fim['VL_TOTAL'],\n",
    "              title='TREND BOLSA CHINESA FIM',\n",
    "              markers='*',\n",
    "              labels={\n",
    "                     \"DT_COMPTC\": \"Data de competência do documento\",\n",
    "                     \"VL_TOTAL\": \"Valor total da carteira\"})\n",
    "\n",
    "fig.update_xaxes(rangeslider_visible=True)\n",
    "fig.update_layout(height=600)\n",
    "fig.show()"
   ]
  },
  {
   "cell_type": "markdown",
   "id": "7016d0b5-6d46-4d83-8ca8-52bb1b222d56",
   "metadata": {},
   "source": [
    "TREND COMMODITIES FIM"
   ]
  },
  {
   "cell_type": "code",
   "execution_count": null,
   "id": "c347ecef-9cf9-41f6-9714-f6bf0a959d01",
   "metadata": {},
   "outputs": [],
   "source": [
    "import plotly.express as px\n",
    "\n",
    "fig = px.line(trend_commodities_fim, x=trend_commodities_fim['DT_COMPTC'], y=trend_commodities_fim['VL_TOTAL'],\n",
    "              title='TREND COMMODITIES FIM',\n",
    "              markers='*',\n",
    "              labels={\n",
    "                     \"DT_COMPTC\": \"Data de competência do documento\",\n",
    "                     \"VL_TOTAL\": \"Valor total da carteira\"})\n",
    "\n",
    "fig.update_xaxes(rangeslider_visible=True)\n",
    "fig.update_layout(height=600)\n",
    "fig.show()"
   ]
  },
  {
   "cell_type": "markdown",
   "id": "bfe59859-edf3-466c-b158-c864fd11fd6e",
   "metadata": {},
   "source": [
    "TREND SHORT DOLAR FI CAMBIAL"
   ]
  },
  {
   "cell_type": "code",
   "execution_count": null,
   "id": "06c89eb8-0e52-44b4-a8e7-edb1d1dcbb50",
   "metadata": {},
   "outputs": [],
   "source": [
    "import plotly.express as px\n",
    "\n",
    "fig = px.line(trend_short_dolar_fi_cambial, x=trend_short_dolar_fi_cambial['DT_COMPTC'], y=trend_short_dolar_fi_cambial['VL_TOTAL'],\n",
    "              title='TREND SHORT DOLAR FI CAMBIAL',\n",
    "              markers='*',\n",
    "              labels={\n",
    "                     \"DT_COMPTC\": \"Data de competência do documento\",\n",
    "                     \"VL_TOTAL\": \"Valor total da carteira\"})\n",
    "\n",
    "fig.update_xaxes(rangeslider_visible=True)\n",
    "fig.update_layout(height=600)\n",
    "fig.show()"
   ]
  },
  {
   "cell_type": "markdown",
   "id": "7f3c3e8d-ee3e-46b5-96c8-b2a0ac7d4e79",
   "metadata": {},
   "source": [
    "TREND ÁGUA TECH FIM"
   ]
  },
  {
   "cell_type": "code",
   "execution_count": null,
   "id": "164fc301-01f1-420b-8c54-7ee0df2292cf",
   "metadata": {},
   "outputs": [],
   "source": [
    "import plotly.express as px\n",
    "\n",
    "fig = px.line(trend_agua_tech_fim, x=trend_agua_tech_fim['DT_COMPTC'], y=trend_agua_tech_fim['VL_TOTAL'],\n",
    "              title='TREND ÁGUA TECH FIM',\n",
    "              markers='*',\n",
    "              labels={\n",
    "                     \"DT_COMPTC\": \"Data de competência do documento\",\n",
    "                     \"VL_TOTAL\": \"Valor total da carteira\"})\n",
    "\n",
    "fig.update_xaxes(rangeslider_visible=True)\n",
    "fig.update_layout(height=600)\n",
    "fig.show()"
   ]
  },
  {
   "cell_type": "markdown",
   "id": "35449f36-cc31-4896-a632-43efb1cd104c",
   "metadata": {},
   "source": [
    "# -------------------------------------------------------------"
   ]
  },
  {
   "cell_type": "code",
   "execution_count": null,
   "id": "cfd750cd-978c-466e-ae53-0328b1320219",
   "metadata": {},
   "outputs": [],
   "source": []
  }
 ],
 "metadata": {
  "kernelspec": {
   "display_name": "Python 3 (ipykernel)",
   "language": "python",
   "name": "python3"
  },
  "language_info": {
   "codemirror_mode": {
    "name": "ipython",
    "version": 3
   },
   "file_extension": ".py",
   "mimetype": "text/x-python",
   "name": "python",
   "nbconvert_exporter": "python",
   "pygments_lexer": "ipython3",
   "version": "3.11.0"
  }
 },
 "nbformat": 4,
 "nbformat_minor": 5
}
